{
 "cells": [
  {
   "cell_type": "markdown",
   "id": "4ff1fe51",
   "metadata": {},
   "source": [
    "# Backward stepwise linear regression\n"
   ]
  },
  {
   "cell_type": "code",
   "execution_count": 1,
   "id": "83fd4ba9",
   "metadata": {},
   "outputs": [],
   "source": [
    "# Load libraries\n",
    "import pandas as pd\n",
    "import numpy as np\n",
    "import matplotlib.pyplot as plt\n",
    "import seaborn as sns\n",
    "import os"
   ]
  },
  {
   "cell_type": "markdown",
   "id": "21f43543",
   "metadata": {},
   "source": [
    "Definition of the functions:"
   ]
  },
  {
   "cell_type": "code",
   "execution_count": 2,
   "id": "4f0483ab",
   "metadata": {},
   "outputs": [],
   "source": [
    "def bw_step_model_reg(X,y):\n",
    "    # This is a manual automation in which each iteration trains a linear regression model,\n",
    "    # then those variables whose p-value>0.05 are eliminated, the loop ends when there are no variables \n",
    "    # with p-value>0.05 left until then it returns the df X with the significant variables and the model  as \"model\".\n",
    "    \n",
    "    import statsmodels.api as sm\n",
    "    from sklearn.metrics import r2_score\n",
    "\n",
    "    model= sm.OLS(y, X).fit()\n",
    "    y_pred=model.predict(X)\n",
    "    \n",
    "    #R2=r2_score(y, y_pred)\n",
    "    r2_model=[model.rsquared.round(4)]\n",
    "    #r2_calc=[R2.round(4)]\n",
    "    r2_ajust_model=[model.rsquared_adj.round(4)]\n",
    "    #r2_ajust_calc=[(1 - (1-R2)*(len(y)-1)/(len(y)-X.shape[1]-1)).round(4)]\n",
    "  \n",
    "    aic=[model.aic.round(2)]\n",
    "    bic=[model.bic.round(2)]\n",
    "    variables=[X.shape[1]]\n",
    "    var_deleted=[]\n",
    "    \n",
    "    while any(model.pvalues>0.05):\n",
    "        #print(model.pvalues)\n",
    "        var_max_ant=model.pvalues.reset_index().loc[np.where(model.pvalues==model.pvalues.max())[0][0],'index']\n",
    "        nuevas_vars=list(set(list(X.columns))-set([var_max_ant]))\n",
    "        X=X[nuevas_vars]\n",
    "        model= sm.OLS(y, X).fit()\n",
    "        y_pred=model.predict(X)\n",
    "        \n",
    "        #R2=r2_score(y, y_pred)\n",
    "        r2_model.append(model.rsquared.round(4))\n",
    "        #r2_calc.append(R2.round(4))\n",
    "        r2_ajust_model.append(model.rsquared_adj.round(4))\n",
    "        #r2_ajust_calc.append((1 - (1-R2)*(len(y)-1)/(len(y)-X.shape[1]-1)).round(4))\n",
    "        aic.append(model.aic.round(2))\n",
    "        bic.append(model.bic.round(2))\n",
    "        variables.append(X.shape[1])\n",
    "        var_deleted.append(var_max_ant)\n",
    "    \n",
    "    var_deleted.append(\"-\") \n",
    "    performance_summary={\"no_variables\": variables,\n",
    "                         \"Deleted_Variables\": var_deleted,\n",
    "                         \"r2_model\": r2_model,\n",
    "                         #\"r2_calc\": r2_calc,\n",
    "                         \"r2_ajust_model\": r2_ajust_model,\n",
    "                         #\"r2_ajust_calc\": r2_ajust_calc,\n",
    "                         \"aic\": aic,\n",
    "                         \"bic\": bic}\n",
    "   \n",
    "    performance_summary=pd.DataFrame.from_dict(performance_summary)\n",
    "     \n",
    "    return (X, model, performance_summary)"
   ]
  },
  {
   "cell_type": "code",
   "execution_count": 3,
   "id": "fc939b7e",
   "metadata": {},
   "outputs": [],
   "source": [
    "def funplot(performance_summary):\n",
    "    from matplotlib.ticker import MaxNLocator\n",
    "\n",
    "    xplot=performance_summary.no_variables\n",
    "\n",
    "    fig = plt.figure(figsize=(6, 6))\n",
    "\n",
    "    gs = fig.add_gridspec(3, hspace=0)\n",
    "    axs = gs.subplots(sharex=True, sharey=False)\n",
    "    fig.suptitle('Backward Stepwise Regression model Performance')\n",
    "    axs[0].plot(xplot, performance_summary.r2_model)\n",
    "    axs[0].set_ylabel('R2')\n",
    "    axs[1].plot(xplot, performance_summary.r2_ajust_model, 'tab:orange')\n",
    "    axs[1].set_ylabel('R2 adj')\n",
    "    axs[2].plot(xplot, performance_summary.bic, 'tab:red', label='BIC')\n",
    "    axs[2].plot(xplot, performance_summary.aic, 'tab:blue', label='AIC')\n",
    "    axs[2].legend(loc=\"upper right\")\n",
    "    axs[2].set_ylabel('AIC y BIC')\n",
    "    axs[0].invert_xaxis()\n",
    "    axs[1].invert_xaxis()\n",
    "    #axs[2].invert_xaxis()\n",
    "\n",
    "    # Hide x labels and tick labels for all but bottom plot.\n",
    "    for ax in axs:\n",
    "        ax.label_outer() \n",
    "        ax.invert_xaxis()\n",
    "        ax.xaxis.set_major_locator(MaxNLocator(integer=True))\n",
    "        ax.grid()"
   ]
  },
  {
   "cell_type": "markdown",
   "id": "32280c80",
   "metadata": {},
   "source": [
    "## Load variables"
   ]
  },
  {
   "cell_type": "code",
   "execution_count": 4,
   "id": "0284c6f3",
   "metadata": {},
   "outputs": [
    {
     "data": {
      "text/html": [
       "<div>\n",
       "<style scoped>\n",
       "    .dataframe tbody tr th:only-of-type {\n",
       "        vertical-align: middle;\n",
       "    }\n",
       "\n",
       "    .dataframe tbody tr th {\n",
       "        vertical-align: top;\n",
       "    }\n",
       "\n",
       "    .dataframe thead th {\n",
       "        text-align: right;\n",
       "    }\n",
       "</style>\n",
       "<table border=\"1\" class=\"dataframe\">\n",
       "  <thead>\n",
       "    <tr style=\"text-align: right;\">\n",
       "      <th></th>\n",
       "      <th>poblacion</th>\n",
       "      <th>estudiantes</th>\n",
       "      <th>ss_trabajo</th>\n",
       "      <th>ss_residencia</th>\n",
       "      <th>parque_vehicular</th>\n",
       "      <th>plazas_hoteleras</th>\n",
       "      <th>renta_bruta</th>\n",
       "      <th>superficie_vivienda_total</th>\n",
       "      <th>superficie_industrial</th>\n",
       "      <th>superficie_oficinas</th>\n",
       "      <th>superficie_comercial</th>\n",
       "      <th>superficie_deportiva</th>\n",
       "      <th>superficie_hosteleria_ocio</th>\n",
       "      <th>superficie_cultural</th>\n",
       "      <th>superficie_espectaculos</th>\n",
       "      <th>superficie_religion</th>\n",
       "      <th>superficie_construida_agricola</th>\n",
       "    </tr>\n",
       "  </thead>\n",
       "  <tbody>\n",
       "    <tr>\n",
       "      <th>0</th>\n",
       "      <td>25501</td>\n",
       "      <td>4779</td>\n",
       "      <td>7296.0</td>\n",
       "      <td>10160.0</td>\n",
       "      <td>20438</td>\n",
       "      <td>194</td>\n",
       "      <td>17825.0</td>\n",
       "      <td>1316230</td>\n",
       "      <td>75031</td>\n",
       "      <td>24075</td>\n",
       "      <td>98200</td>\n",
       "      <td>18318</td>\n",
       "      <td>25948</td>\n",
       "      <td>35614</td>\n",
       "      <td>271</td>\n",
       "      <td>3926</td>\n",
       "      <td>66572</td>\n",
       "    </tr>\n",
       "    <tr>\n",
       "      <th>1</th>\n",
       "      <td>3733</td>\n",
       "      <td>706</td>\n",
       "      <td>1227.0</td>\n",
       "      <td>1437.0</td>\n",
       "      <td>3536</td>\n",
       "      <td>0</td>\n",
       "      <td>18408.0</td>\n",
       "      <td>249462</td>\n",
       "      <td>24968</td>\n",
       "      <td>4006</td>\n",
       "      <td>13013</td>\n",
       "      <td>7339</td>\n",
       "      <td>8210</td>\n",
       "      <td>8742</td>\n",
       "      <td>0</td>\n",
       "      <td>983</td>\n",
       "      <td>20858</td>\n",
       "    </tr>\n",
       "    <tr>\n",
       "      <th>2</th>\n",
       "      <td>200753</td>\n",
       "      <td>62263</td>\n",
       "      <td>90744.0</td>\n",
       "      <td>73036.0</td>\n",
       "      <td>142206</td>\n",
       "      <td>3932</td>\n",
       "      <td>25682.0</td>\n",
       "      <td>9605737</td>\n",
       "      <td>311230</td>\n",
       "      <td>327128</td>\n",
       "      <td>922770</td>\n",
       "      <td>747067</td>\n",
       "      <td>256401</td>\n",
       "      <td>488633</td>\n",
       "      <td>20758</td>\n",
       "      <td>52288</td>\n",
       "      <td>182376</td>\n",
       "    </tr>\n",
       "  </tbody>\n",
       "</table>\n",
       "</div>"
      ],
      "text/plain": [
       "   poblacion  estudiantes  ss_trabajo  ss_residencia  parque_vehicular  \\\n",
       "0      25501         4779      7296.0        10160.0             20438   \n",
       "1       3733          706      1227.0         1437.0              3536   \n",
       "2     200753        62263     90744.0        73036.0            142206   \n",
       "\n",
       "   plazas_hoteleras  renta_bruta  superficie_vivienda_total  \\\n",
       "0               194      17825.0                    1316230   \n",
       "1                 0      18408.0                     249462   \n",
       "2              3932      25682.0                    9605737   \n",
       "\n",
       "   superficie_industrial  superficie_oficinas  superficie_comercial  \\\n",
       "0                  75031                24075                 98200   \n",
       "1                  24968                 4006                 13013   \n",
       "2                 311230               327128                922770   \n",
       "\n",
       "   superficie_deportiva  superficie_hosteleria_ocio  superficie_cultural  \\\n",
       "0                 18318                       25948                35614   \n",
       "1                  7339                        8210                 8742   \n",
       "2                747067                      256401               488633   \n",
       "\n",
       "   superficie_espectaculos  superficie_religion  \\\n",
       "0                      271                 3926   \n",
       "1                        0                  983   \n",
       "2                    20758                52288   \n",
       "\n",
       "   superficie_construida_agricola  \n",
       "0                           66572  \n",
       "1                           20858  \n",
       "2                          182376  "
      ]
     },
     "execution_count": 4,
     "metadata": {},
     "output_type": "execute_result"
    }
   ],
   "source": [
    "# Explanatory data path\n",
    "path=r\"..\\vars.xlsx\"\n",
    "path=path.replace(os.sep, \"/\")\n",
    "\n",
    "# Load explanatory variables\n",
    "explanatory=pd.read_excel(path,\n",
    "                          sheet_name=\"Vars\")\n",
    "\n",
    "# Round\n",
    "var_exp=['poblacion', 'estudiantes',\n",
    "       'ss_trabajo', 'ss_residencia', 'parque_vehicular', 'plazas_hoteleras',\n",
    "       'renta_bruta', 'superficie_vivienda_total', 'superficie_industrial',\n",
    "       'superficie_oficinas', 'superficie_comercial', 'superficie_deportiva',\n",
    "       'superficie_hosteleria_ocio', 'superficie_cultural',\n",
    "       'superficie_espectaculos', 'superficie_religion',\n",
    "       'superficie_construida_agricola']\n",
    "explanatory[var_exp]=explanatory[var_exp].round(0)\n",
    "#Ajustes de preparación de datos\n",
    "#explanatory.index=explanatory.cumun\n",
    "explanatory=explanatory.drop(['municipio', 'cumun', 'macrozona'],axis=1)\n",
    "explanatory.head(3)"
   ]
  },
  {
   "cell_type": "code",
   "execution_count": 5,
   "id": "9d658eef",
   "metadata": {},
   "outputs": [
    {
     "data": {
      "text/html": [
       "<div>\n",
       "<style scoped>\n",
       "    .dataframe tbody tr th:only-of-type {\n",
       "        vertical-align: middle;\n",
       "    }\n",
       "\n",
       "    .dataframe tbody tr th {\n",
       "        vertical-align: top;\n",
       "    }\n",
       "\n",
       "    .dataframe thead th {\n",
       "        text-align: right;\n",
       "    }\n",
       "</style>\n",
       "<table border=\"1\" class=\"dataframe\">\n",
       "  <thead>\n",
       "    <tr style=\"text-align: right;\">\n",
       "      <th></th>\n",
       "      <th>y</th>\n",
       "    </tr>\n",
       "  </thead>\n",
       "  <tbody>\n",
       "    <tr>\n",
       "      <th>0</th>\n",
       "      <td>13856.983424</td>\n",
       "    </tr>\n",
       "    <tr>\n",
       "      <th>1</th>\n",
       "      <td>2641.732971</td>\n",
       "    </tr>\n",
       "    <tr>\n",
       "      <th>2</th>\n",
       "      <td>123427.227013</td>\n",
       "    </tr>\n",
       "  </tbody>\n",
       "</table>\n",
       "</div>"
      ],
      "text/plain": [
       "               y\n",
       "0   13856.983424\n",
       "1    2641.732971\n",
       "2  123427.227013"
      ]
     },
     "execution_count": 5,
     "metadata": {},
     "output_type": "execute_result"
    }
   ],
   "source": [
    "# Dependent data path\n",
    "dependents=pd.read_excel(path,\n",
    "                          sheet_name=\"y\")\n",
    "#Ajustes de preparación de datos\n",
    "#dependents.index=dependents.cumun\n",
    "\n",
    "var_inde=['HBWS Producción']\n",
    " \n",
    "dependents=dependents[var_inde]\n",
    "dependents.rename(columns={\"HBWS Producción\":\"y\"}, inplace=True)\n",
    "dependents.head(3)"
   ]
  },
  {
   "cell_type": "markdown",
   "id": "e5511720",
   "metadata": {},
   "source": [
    "## Run model"
   ]
  },
  {
   "cell_type": "code",
   "execution_count": 6,
   "id": "e8759ac7",
   "metadata": {},
   "outputs": [],
   "source": [
    "signfificative_explanatory_vars, model, performance_summary = bw_step_model_reg(explanatory, dependents)"
   ]
  },
  {
   "cell_type": "code",
   "execution_count": 7,
   "id": "a0d7cb18",
   "metadata": {},
   "outputs": [
    {
     "data": {
      "text/plain": [
       "Index(['poblacion', 'estudiantes', 'ss_trabajo', 'ss_residencia',\n",
       "       'parque_vehicular', 'plazas_hoteleras', 'renta_bruta',\n",
       "       'superficie_vivienda_total', 'superficie_industrial',\n",
       "       'superficie_oficinas', 'superficie_comercial', 'superficie_deportiva',\n",
       "       'superficie_hosteleria_ocio', 'superficie_cultural',\n",
       "       'superficie_espectaculos', 'superficie_religion',\n",
       "       'superficie_construida_agricola'],\n",
       "      dtype='object')"
      ]
     },
     "execution_count": 7,
     "metadata": {},
     "output_type": "execute_result"
    }
   ],
   "source": [
    "#Explanatory variables\n",
    "explanatory.columns"
   ]
  },
  {
   "cell_type": "code",
   "execution_count": 8,
   "id": "a5344e83",
   "metadata": {},
   "outputs": [
    {
     "data": {
      "text/plain": [
       "Index(['superficie_hosteleria_ocio', 'ss_trabajo', 'superficie_comercial',\n",
       "       'superficie_deportiva', 'parque_vehicular', 'ss_residencia',\n",
       "       'poblacion', 'plazas_hoteleras', 'superficie_cultural'],\n",
       "      dtype='object')"
      ]
     },
     "execution_count": 8,
     "metadata": {},
     "output_type": "execute_result"
    }
   ],
   "source": [
    "#Significative variables\n",
    "signfificative_explanatory_vars.columns"
   ]
  },
  {
   "cell_type": "code",
   "execution_count": 9,
   "id": "be3200e2",
   "metadata": {},
   "outputs": [
    {
     "data": {
      "text/html": [
       "<div>\n",
       "<style scoped>\n",
       "    .dataframe tbody tr th:only-of-type {\n",
       "        vertical-align: middle;\n",
       "    }\n",
       "\n",
       "    .dataframe tbody tr th {\n",
       "        vertical-align: top;\n",
       "    }\n",
       "\n",
       "    .dataframe thead th {\n",
       "        text-align: right;\n",
       "    }\n",
       "</style>\n",
       "<table border=\"1\" class=\"dataframe\">\n",
       "  <thead>\n",
       "    <tr style=\"text-align: right;\">\n",
       "      <th></th>\n",
       "      <th>no_variables</th>\n",
       "      <th>Deleted_Variables</th>\n",
       "      <th>r2_model</th>\n",
       "      <th>r2_ajust_model</th>\n",
       "      <th>aic</th>\n",
       "      <th>bic</th>\n",
       "    </tr>\n",
       "  </thead>\n",
       "  <tbody>\n",
       "    <tr>\n",
       "      <th>0</th>\n",
       "      <td>17</td>\n",
       "      <td>estudiantes</td>\n",
       "      <td>1.0000</td>\n",
       "      <td>0.9998</td>\n",
       "      <td>330.92</td>\n",
       "      <td>349.47</td>\n",
       "    </tr>\n",
       "    <tr>\n",
       "      <th>1</th>\n",
       "      <td>16</td>\n",
       "      <td>renta_bruta</td>\n",
       "      <td>1.0000</td>\n",
       "      <td>0.9999</td>\n",
       "      <td>329.19</td>\n",
       "      <td>346.65</td>\n",
       "    </tr>\n",
       "    <tr>\n",
       "      <th>2</th>\n",
       "      <td>15</td>\n",
       "      <td>superficie_vivienda_total</td>\n",
       "      <td>1.0000</td>\n",
       "      <td>0.9999</td>\n",
       "      <td>327.52</td>\n",
       "      <td>343.89</td>\n",
       "    </tr>\n",
       "    <tr>\n",
       "      <th>3</th>\n",
       "      <td>14</td>\n",
       "      <td>superficie_industrial</td>\n",
       "      <td>1.0000</td>\n",
       "      <td>0.9999</td>\n",
       "      <td>331.21</td>\n",
       "      <td>346.48</td>\n",
       "    </tr>\n",
       "    <tr>\n",
       "      <th>4</th>\n",
       "      <td>13</td>\n",
       "      <td>superficie_religion</td>\n",
       "      <td>0.9999</td>\n",
       "      <td>0.9999</td>\n",
       "      <td>332.09</td>\n",
       "      <td>346.27</td>\n",
       "    </tr>\n",
       "    <tr>\n",
       "      <th>5</th>\n",
       "      <td>12</td>\n",
       "      <td>superficie_espectaculos</td>\n",
       "      <td>0.9999</td>\n",
       "      <td>0.9999</td>\n",
       "      <td>332.82</td>\n",
       "      <td>345.91</td>\n",
       "    </tr>\n",
       "    <tr>\n",
       "      <th>6</th>\n",
       "      <td>11</td>\n",
       "      <td>superficie_construida_agricola</td>\n",
       "      <td>0.9999</td>\n",
       "      <td>0.9999</td>\n",
       "      <td>335.82</td>\n",
       "      <td>347.82</td>\n",
       "    </tr>\n",
       "    <tr>\n",
       "      <th>7</th>\n",
       "      <td>10</td>\n",
       "      <td>superficie_oficinas</td>\n",
       "      <td>0.9999</td>\n",
       "      <td>0.9998</td>\n",
       "      <td>337.34</td>\n",
       "      <td>348.25</td>\n",
       "    </tr>\n",
       "    <tr>\n",
       "      <th>8</th>\n",
       "      <td>9</td>\n",
       "      <td>-</td>\n",
       "      <td>0.9999</td>\n",
       "      <td>0.9998</td>\n",
       "      <td>339.97</td>\n",
       "      <td>349.79</td>\n",
       "    </tr>\n",
       "  </tbody>\n",
       "</table>\n",
       "</div>"
      ],
      "text/plain": [
       "   no_variables               Deleted_Variables  r2_model  r2_ajust_model  \\\n",
       "0            17                     estudiantes    1.0000          0.9998   \n",
       "1            16                     renta_bruta    1.0000          0.9999   \n",
       "2            15       superficie_vivienda_total    1.0000          0.9999   \n",
       "3            14           superficie_industrial    1.0000          0.9999   \n",
       "4            13             superficie_religion    0.9999          0.9999   \n",
       "5            12         superficie_espectaculos    0.9999          0.9999   \n",
       "6            11  superficie_construida_agricola    0.9999          0.9999   \n",
       "7            10             superficie_oficinas    0.9999          0.9998   \n",
       "8             9                               -    0.9999          0.9998   \n",
       "\n",
       "      aic     bic  \n",
       "0  330.92  349.47  \n",
       "1  329.19  346.65  \n",
       "2  327.52  343.89  \n",
       "3  331.21  346.48  \n",
       "4  332.09  346.27  \n",
       "5  332.82  345.91  \n",
       "6  335.82  347.82  \n",
       "7  337.34  348.25  \n",
       "8  339.97  349.79  "
      ]
     },
     "execution_count": 9,
     "metadata": {},
     "output_type": "execute_result"
    }
   ],
   "source": [
    "performance_summary"
   ]
  },
  {
   "cell_type": "code",
   "execution_count": 10,
   "id": "ed88c8f9",
   "metadata": {},
   "outputs": [
    {
     "data": {
      "image/png": "[encoded data removed]",
      "text/plain": [
       "<Figure size 432x432 with 3 Axes>"
      ]
     },
     "metadata": {
      "needs_background": "light"
     },
     "output_type": "display_data"
    }
   ],
   "source": [
    "# Performance plots\n",
    "funplot(performance_summary)"
   ]
  },
  {
   "cell_type": "markdown",
   "id": "0d945019",
   "metadata": {},
   "source": [
    "Hope this can help you\n",
    "**Follow me on\n",
    "[LinkedIn](https://www.linkedin.com/in/luisenriquepalma/)**"
   ]
  }
 ],
 "metadata": {
  "kernelspec": {
   "display_name": "Python 3 (ipykernel)",
   "language": "python",
   "name": "python3"
  },
  "language_info": {
   "codemirror_mode": {
    "name": "ipython",
    "version": 3
   },
   "file_extension": ".py",
   "mimetype": "text/x-python",
   "name": "python",
   "nbconvert_exporter": "python",
   "pygments_lexer": "ipython3",
   "version": "3.9.12"
  },
  "toc": {
   "base_numbering": 1,
   "nav_menu": {},
   "number_sections": true,
   "sideBar": true,
   "skip_h1_title": false,
   "title_cell": "Table of Contents",
   "title_sidebar": "Contents",
   "toc_cell": false,
   "toc_position": {},
   "toc_section_display": true,
   "toc_window_display": false
  },
  "varInspector": {
   "cols": {
    "lenName": 16,
    "lenType": 16,
    "lenVar": 40
   },
   "kernels_config": {
    "python": {
     "delete_cmd_postfix": "",
     "delete_cmd_prefix": "del ",
     "library": "var_list.py",
     "varRefreshCmd": "print(var_dic_list())"
    },
    "r": {
     "delete_cmd_postfix": ") ",
     "delete_cmd_prefix": "rm(",
     "library": "var_list.r",
     "varRefreshCmd": "cat(var_dic_list()) "
    }
   },
   "types_to_exclude": [
    "module",
    "function",
    "builtin_function_or_method",
    "instance",
    "_Feature"
   ],
   "window_display": false
  }
 },
 "nbformat": 4,
 "nbformat_minor": 5
}
